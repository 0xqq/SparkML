{
 "cells": [
  {
   "cell_type": "code",
   "execution_count": 3,
   "metadata": {
    "collapsed": false
   },
   "outputs": [
    {
     "name": "stdout",
     "output_type": "stream",
     "text": [
      "Singular values are [25.26776724352383,13.752505639532256,12.193628505511972,8.073436745030213,7.4973616664530764,6.27744176820788,5.089006966420011,2.153286728359266,1.3722823724537987,0.7112974499172692,0.055896633645633485]\n"
     ]
    }
   ],
   "source": [
    "val PATH = \"file:///Users/lzz/work/SparkML/\"\n",
    "\n",
    "import org.apache.spark.mllib.linalg.distributed.RowMatrix\n",
    "import org.apache.spark.mllib.linalg.Vectors\n",
    "\n",
    "// Load and parse the data file.\n",
    "    val rows = sc.textFile( PATH+\"data/mllib/sample_lda_data.txt\").map { line =>\n",
    "      val values = line.split(' ').map(_.toDouble)\n",
    "      Vectors.dense(values)\n",
    "    }\n",
    "    val mat = new RowMatrix(rows)\n",
    "\n",
    "    // Compute SVD.\n",
    "    val svd = mat.computeSVD(mat.numCols().toInt)\n",
    "\n",
    "    println(\"Singular values are \" + svd.s)\n"
   ]
  },
  {
   "cell_type": "code",
   "execution_count": null,
   "metadata": {
    "collapsed": true
   },
   "outputs": [],
   "source": []
  }
 ],
 "metadata": {
  "kernelspec": {
   "display_name": "Spark 1.5.2 (Scala 2.10)",
   "language": "",
   "name": "spark"
  },
  "language_info": {
   "name": "scala",
   "version": "2.10.4"
  }
 },
 "nbformat": 4,
 "nbformat_minor": 1
}
