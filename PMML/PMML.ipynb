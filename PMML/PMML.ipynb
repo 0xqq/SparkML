{
 "cells": [
  {
   "cell_type": "markdown",
   "metadata": {},
   "source": [
    "MLlib supports model export to Predictive Model Markup Language (PMML).\n",
    "\n",
    "The table below outlines the MLlib models that can be exported to PMML and their equivalent PMML model.\n"
   ]
  },
  {
   "cell_type": "markdown",
   "metadata": {},
   "source": [
    "\n",
    "MLlib model | PMML model \n",
    " ----------------- | ------------------ |\n",
    " KMeansModel | ClusteringModel \n",
    " LinearRegressionModel\t| RegressionModel (functionName=\"regression\")\n",
    " RidgeRegressionModel\t| RegressionModel (functionName=\"regression\")\n",
    " LassoModel | RegressionModel (functionName=\"regression\")\n",
    " SVMModel | RegressionModel (functionName=\"classification\" normalizationMethod=\"none\")\n",
    " Binary LogisticRegressionModel | RegressionModel (functionName=\"classification\" normalizationMethod=\"logit\")"
   ]
  }
 ],
 "metadata": {
  "kernelspec": {
   "display_name": "Spark 1.5.2 (Scala 2.10)",
   "language": "",
   "name": "spark"
  },
  "language_info": {
   "name": "scala",
   "version": "2.10.4"
  }
 },
 "nbformat": 4,
 "nbformat_minor": 1
}
