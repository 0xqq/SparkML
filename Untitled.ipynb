{
 "cells": [
  {
   "cell_type": "code",
   "execution_count": 1,
   "metadata": {
    "collapsed": false
   },
   "outputs": [
    {
     "name": "stdout",
     "output_type": "stream",
     "text": [
      "(spark-sql,1)\n",
      "(hive,1)\n",
      "(oozie,1)\n",
      "(big,1)\n",
      "(hello,3)\n",
      "(hue,1)\n",
      "(azkaban,1)\n",
      "(spark,1)\n",
      "(hadoop,2)\n",
      "(flume,2)\n"
     ]
    }
   ],
   "source": [
    "val line = sc.textFile(\"hdfs://localhost:9000/word_count.txt\")\n",
    "  line.flatMap(_.split(\" \")).map((_, 1)).reduceByKey(_+_).take(10).foreach(println)\n",
    "  sc.stop()"
   ]
  },
  {
   "cell_type": "code",
   "execution_count": null,
   "metadata": {
    "collapsed": true
   },
   "outputs": [],
   "source": []
  }
 ],
 "metadata": {
  "kernelspec": {
   "display_name": "Spark 1.5.2 (Scala 2.10)",
   "language": "",
   "name": "spark"
  },
  "language_info": {
   "name": "scala",
   "version": "2.10.4"
  }
 },
 "nbformat": 4,
 "nbformat_minor": 1
}
