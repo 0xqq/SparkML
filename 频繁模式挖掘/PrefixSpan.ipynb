{
 "cells": [
  {
   "cell_type": "code",
   "execution_count": 1,
   "metadata": {
    "collapsed": false
   },
   "outputs": [
    {
     "name": "stdout",
     "output_type": "stream",
     "text": [
      "[[2]], 3\n",
      "[[3]], 2\n",
      "[[1]], 3\n",
      "[[2, 1]], 3\n",
      "[[1], [3]], 2\n"
     ]
    }
   ],
   "source": [
    "\n",
    "import org.apache.spark.mllib.fpm.PrefixSpan\n",
    "\n",
    "val sequences = sc.parallelize(Seq(\n",
    "    Array(Array(1, 2), Array(3)),\n",
    "    Array(Array(1), Array(3, 2), Array(1, 2)),\n",
    "    Array(Array(1, 2), Array(5)),\n",
    "    Array(Array(6))\n",
    "  ), 2).cache()\n",
    "val prefixSpan = new PrefixSpan().setMinSupport(0.5).setMaxPatternLength(5)\n",
    "val model = prefixSpan.run(sequences)\n",
    "model.freqSequences.collect().foreach { freqSequence =>\n",
    "println(\n",
    "  freqSequence.sequence.map(_.mkString(\"[\", \", \", \"]\")).mkString(\"[\", \", \", \"]\") + \", \" + freqSequence.freq)\n",
    "}"
   ]
  }
 ],
 "metadata": {
  "kernelspec": {
   "display_name": "Spark 1.5.2 (Scala 2.10)",
   "language": "",
   "name": "spark"
  },
  "language_info": {
   "name": "scala",
   "version": "2.10.4"
  }
 },
 "nbformat": 4,
 "nbformat_minor": 1
}
