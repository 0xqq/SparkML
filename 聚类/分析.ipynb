{
 "cells": [
  {
   "cell_type": "code",
   "execution_count": 1,
   "metadata": {
    "collapsed": false
   },
   "outputs": [
    {
     "name": "stdout",
     "output_type": "stream",
     "text": [
      "'data.frame':\t2455 obs. of  1 variable:\n",
      " $ X1.Toy.Story..1995..01.Jan.1995..http...us.imdb.com.M.title.exact.Toy.20Story.20.1995..0.0.0.1.1.1.0.0.0.0.0.0.0.0.0.0.0.0.0: Factor w/ 2382 levels \" A (1932)|01-Jan-1932||http://us.imdb.com/M/title-exact?Farewell%20to%20Arms\",..: 1495 1606 1717 1828 1939 2050 2161 2272 702 813 ...\n"
     ]
    }
   ],
   "source": [
    "data <- read.csv(\"../data/ml-100k/u.item\")\n",
    "str(data)"
   ]
  },
  {
   "cell_type": "code",
   "execution_count": null,
   "metadata": {
    "collapsed": true
   },
   "outputs": [],
   "source": []
  }
 ],
 "metadata": {
  "kernelspec": {
   "display_name": "R",
   "language": "R",
   "name": "ir"
  },
  "language_info": {
   "codemirror_mode": "r",
   "file_extension": ".r",
   "mimetype": "text/x-r-source",
   "name": "R",
   "pygments_lexer": "r",
   "version": "3.3.1"
  }
 },
 "nbformat": 4,
 "nbformat_minor": 1
}
